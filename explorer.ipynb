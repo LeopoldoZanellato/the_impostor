{
 "cells": [
  {
   "cell_type": "code",
   "execution_count": 1,
   "id": "f852f924-8572-4ab9-a9ad-41c93eb5e585",
   "metadata": {},
   "outputs": [],
   "source": [
    "#!gsutil -m cp -r gs://the_impostor_hunt/data ./  "
   ]
  },
  {
   "cell_type": "code",
   "execution_count": 2,
   "id": "2792398b-ae65-4d09-a969-c2583e1bb321",
   "metadata": {},
   "outputs": [],
   "source": [
    "# ler o arquivo data/train.csv\n",
    "# para cada id na tabela train_roles no formato com 4 numeros (0001, 0002, 0010)\n",
    "# ler cada um dos arquivos na pasta data/train/pasta"
   ]
  },
  {
   "cell_type": "code",
   "execution_count": 3,
   "id": "4d7a2752-352a-4209-8d61-554061caf140",
   "metadata": {},
   "outputs": [],
   "source": [
    "import pandas as pd\n",
    "import json"
   ]
  },
  {
   "cell_type": "code",
   "execution_count": 4,
   "id": "01f16b65-a953-4c38-ac83-4d97abc0fbcb",
   "metadata": {},
   "outputs": [],
   "source": [
    "train_rules = pd.read_csv(\"data/train.csv\")"
   ]
  },
  {
   "cell_type": "code",
   "execution_count": 5,
   "id": "c225c3ba-e832-49b1-868d-595a59f30561",
   "metadata": {},
   "outputs": [
    {
     "data": {
      "text/html": [
       "<div>\n",
       "<style scoped>\n",
       "    .dataframe tbody tr th:only-of-type {\n",
       "        vertical-align: middle;\n",
       "    }\n",
       "\n",
       "    .dataframe tbody tr th {\n",
       "        vertical-align: top;\n",
       "    }\n",
       "\n",
       "    .dataframe thead th {\n",
       "        text-align: right;\n",
       "    }\n",
       "</style>\n",
       "<table border=\"1\" class=\"dataframe\">\n",
       "  <thead>\n",
       "    <tr style=\"text-align: right;\">\n",
       "      <th></th>\n",
       "      <th>id</th>\n",
       "      <th>real_text_id</th>\n",
       "    </tr>\n",
       "  </thead>\n",
       "  <tbody>\n",
       "    <tr>\n",
       "      <th>0</th>\n",
       "      <td>0</td>\n",
       "      <td>1</td>\n",
       "    </tr>\n",
       "    <tr>\n",
       "      <th>1</th>\n",
       "      <td>1</td>\n",
       "      <td>2</td>\n",
       "    </tr>\n",
       "    <tr>\n",
       "      <th>2</th>\n",
       "      <td>2</td>\n",
       "      <td>1</td>\n",
       "    </tr>\n",
       "    <tr>\n",
       "      <th>3</th>\n",
       "      <td>3</td>\n",
       "      <td>2</td>\n",
       "    </tr>\n",
       "    <tr>\n",
       "      <th>4</th>\n",
       "      <td>4</td>\n",
       "      <td>2</td>\n",
       "    </tr>\n",
       "  </tbody>\n",
       "</table>\n",
       "</div>"
      ],
      "text/plain": [
       "   id  real_text_id\n",
       "0   0             1\n",
       "1   1             2\n",
       "2   2             1\n",
       "3   3             2\n",
       "4   4             2"
      ]
     },
     "execution_count": 5,
     "metadata": {},
     "output_type": "execute_result"
    }
   ],
   "source": [
    "train_rules.head()"
   ]
  },
  {
   "cell_type": "code",
   "execution_count": null,
   "id": "1b25fc63-c54f-41fc-bc94-cb6efec6497d",
   "metadata": {},
   "outputs": [],
   "source": [
    "\n",
    "for i in train_rules.values:\n",
    "    text_id = i[1]\n",
    "    if text_id == 1:\n",
    "        text_id_test = 2\n",
    "    else:\n",
    "        text_id_test = 1\n",
    "    #print(indice, text_id)\n",
    "    id_formatado_train.append(indice)"
   ]
  },
  {
   "cell_type": "code",
   "execution_count": 6,
   "id": "54e759dc-7147-41ce-a2f5-7549570b7a7f",
   "metadata": {},
   "outputs": [],
   "source": [
    "id_formatado_train = []\n",
    "for i in train_rules.values:\n",
    "    indice = str(i[0]).zfill(4)  # converte para string e preenche com zeros até ter 4 dígitos\n",
    "    text_id = i[1]\n",
    "    #print(indice, text_id)\n",
    "    id_formatado_train.append(indice)"
   ]
  },
  {
   "cell_type": "code",
   "execution_count": 7,
   "id": "1c5016c0-c9d9-464e-a29e-d544946ed361",
   "metadata": {},
   "outputs": [
    {
     "data": {
      "text/plain": [
       "['0000', '0001', '0002', '0003', '0004']"
      ]
     },
     "execution_count": 7,
     "metadata": {},
     "output_type": "execute_result"
    }
   ],
   "source": [
    "id_formatado_train[:5]"
   ]
  },
  {
   "cell_type": "code",
   "execution_count": 8,
   "id": "482cad35-13cc-44a3-abc7-bffdb78abac3",
   "metadata": {},
   "outputs": [],
   "source": [
    "train_rules['id_formatado_train'] = id_formatado_train"
   ]
  },
  {
   "cell_type": "code",
   "execution_count": 9,
   "id": "debf547f-afe0-4dc2-afbb-7a4c0ce561fa",
   "metadata": {},
   "outputs": [
    {
     "data": {
      "text/html": [
       "<div>\n",
       "<style scoped>\n",
       "    .dataframe tbody tr th:only-of-type {\n",
       "        vertical-align: middle;\n",
       "    }\n",
       "\n",
       "    .dataframe tbody tr th {\n",
       "        vertical-align: top;\n",
       "    }\n",
       "\n",
       "    .dataframe thead th {\n",
       "        text-align: right;\n",
       "    }\n",
       "</style>\n",
       "<table border=\"1\" class=\"dataframe\">\n",
       "  <thead>\n",
       "    <tr style=\"text-align: right;\">\n",
       "      <th></th>\n",
       "      <th>id</th>\n",
       "      <th>real_text_id</th>\n",
       "      <th>id_formatado_train</th>\n",
       "    </tr>\n",
       "  </thead>\n",
       "  <tbody>\n",
       "    <tr>\n",
       "      <th>0</th>\n",
       "      <td>0</td>\n",
       "      <td>1</td>\n",
       "      <td>0000</td>\n",
       "    </tr>\n",
       "    <tr>\n",
       "      <th>1</th>\n",
       "      <td>1</td>\n",
       "      <td>2</td>\n",
       "      <td>0001</td>\n",
       "    </tr>\n",
       "    <tr>\n",
       "      <th>2</th>\n",
       "      <td>2</td>\n",
       "      <td>1</td>\n",
       "      <td>0002</td>\n",
       "    </tr>\n",
       "    <tr>\n",
       "      <th>3</th>\n",
       "      <td>3</td>\n",
       "      <td>2</td>\n",
       "      <td>0003</td>\n",
       "    </tr>\n",
       "    <tr>\n",
       "      <th>4</th>\n",
       "      <td>4</td>\n",
       "      <td>2</td>\n",
       "      <td>0004</td>\n",
       "    </tr>\n",
       "  </tbody>\n",
       "</table>\n",
       "</div>"
      ],
      "text/plain": [
       "   id  real_text_id id_formatado_train\n",
       "0   0             1               0000\n",
       "1   1             2               0001\n",
       "2   2             1               0002\n",
       "3   3             2               0003\n",
       "4   4             2               0004"
      ]
     },
     "execution_count": 9,
     "metadata": {},
     "output_type": "execute_result"
    }
   ],
   "source": [
    "train_rules.head()"
   ]
  },
  {
   "cell_type": "code",
   "execution_count": 10,
   "id": "d123ee44-4291-4e60-895c-4bc0bdc772ec",
   "metadata": {},
   "outputs": [],
   "source": [
    "train_file = []\n",
    "for i in train_rules.values:\n",
    "    indice = str(i[0]).zfill(4)  # converte para string e preenche com zeros até ter 4 dígitos\n",
    "    train_id = i[1]\n",
    "    id_formatado = i[2]\n",
    "    train_file.append(f\"data/train/article_{id_formatado}/file_{train_id}.txt\")\n",
    "train_rules['train_file'] = train_file"
   ]
  },
  {
   "cell_type": "code",
   "execution_count": 11,
   "id": "dbb77860-f565-4b06-80d1-db08916cdd72",
   "metadata": {},
   "outputs": [
    {
     "data": {
      "text/html": [
       "<div>\n",
       "<style scoped>\n",
       "    .dataframe tbody tr th:only-of-type {\n",
       "        vertical-align: middle;\n",
       "    }\n",
       "\n",
       "    .dataframe tbody tr th {\n",
       "        vertical-align: top;\n",
       "    }\n",
       "\n",
       "    .dataframe thead th {\n",
       "        text-align: right;\n",
       "    }\n",
       "</style>\n",
       "<table border=\"1\" class=\"dataframe\">\n",
       "  <thead>\n",
       "    <tr style=\"text-align: right;\">\n",
       "      <th></th>\n",
       "      <th>id</th>\n",
       "      <th>real_text_id</th>\n",
       "      <th>id_formatado_train</th>\n",
       "      <th>train_file</th>\n",
       "    </tr>\n",
       "  </thead>\n",
       "  <tbody>\n",
       "    <tr>\n",
       "      <th>0</th>\n",
       "      <td>0</td>\n",
       "      <td>1</td>\n",
       "      <td>0000</td>\n",
       "      <td>data/train/article_0000/file_1.txt</td>\n",
       "    </tr>\n",
       "    <tr>\n",
       "      <th>1</th>\n",
       "      <td>1</td>\n",
       "      <td>2</td>\n",
       "      <td>0001</td>\n",
       "      <td>data/train/article_0001/file_2.txt</td>\n",
       "    </tr>\n",
       "    <tr>\n",
       "      <th>2</th>\n",
       "      <td>2</td>\n",
       "      <td>1</td>\n",
       "      <td>0002</td>\n",
       "      <td>data/train/article_0002/file_1.txt</td>\n",
       "    </tr>\n",
       "    <tr>\n",
       "      <th>3</th>\n",
       "      <td>3</td>\n",
       "      <td>2</td>\n",
       "      <td>0003</td>\n",
       "      <td>data/train/article_0003/file_2.txt</td>\n",
       "    </tr>\n",
       "    <tr>\n",
       "      <th>4</th>\n",
       "      <td>4</td>\n",
       "      <td>2</td>\n",
       "      <td>0004</td>\n",
       "      <td>data/train/article_0004/file_2.txt</td>\n",
       "    </tr>\n",
       "  </tbody>\n",
       "</table>\n",
       "</div>"
      ],
      "text/plain": [
       "   id  real_text_id id_formatado_train                          train_file\n",
       "0   0             1               0000  data/train/article_0000/file_1.txt\n",
       "1   1             2               0001  data/train/article_0001/file_2.txt\n",
       "2   2             1               0002  data/train/article_0002/file_1.txt\n",
       "3   3             2               0003  data/train/article_0003/file_2.txt\n",
       "4   4             2               0004  data/train/article_0004/file_2.txt"
      ]
     },
     "execution_count": 11,
     "metadata": {},
     "output_type": "execute_result"
    }
   ],
   "source": [
    "train_rules.head()"
   ]
  },
  {
   "cell_type": "code",
   "execution_count": 13,
   "id": "a117f549-e868-4deb-831b-a005ac376a96",
   "metadata": {},
   "outputs": [
    {
     "name": "stdout",
     "output_type": "stream",
     "text": [
      "data/train/article_0000/file_1.txt\n",
      "data/train/article_0001/file_2.txt\n",
      "data/train/article_0002/file_1.txt\n",
      "data/train/article_0003/file_2.txt\n",
      "data/train/article_0004/file_2.txt\n",
      "data/train/article_0005/file_1.txt\n",
      "data/train/article_0006/file_1.txt\n",
      "data/train/article_0007/file_1.txt\n",
      "data/train/article_0008/file_1.txt\n",
      "data/train/article_0009/file_2.txt\n",
      "data/train/article_0010/file_1.txt\n",
      "data/train/article_0011/file_1.txt\n",
      "data/train/article_0012/file_1.txt\n",
      "data/train/article_0013/file_1.txt\n",
      "data/train/article_0014/file_2.txt\n",
      "data/train/article_0015/file_2.txt\n",
      "data/train/article_0016/file_1.txt\n",
      "data/train/article_0017/file_1.txt\n",
      "data/train/article_0018/file_2.txt\n",
      "data/train/article_0019/file_2.txt\n",
      "data/train/article_0020/file_1.txt\n",
      "data/train/article_0021/file_2.txt\n",
      "data/train/article_0022/file_1.txt\n",
      "data/train/article_0023/file_1.txt\n",
      "data/train/article_0024/file_2.txt\n",
      "data/train/article_0025/file_1.txt\n",
      "data/train/article_0026/file_1.txt\n",
      "data/train/article_0027/file_2.txt\n",
      "data/train/article_0028/file_2.txt\n",
      "data/train/article_0029/file_1.txt\n",
      "data/train/article_0030/file_1.txt\n",
      "data/train/article_0031/file_1.txt\n",
      "data/train/article_0032/file_1.txt\n",
      "data/train/article_0033/file_1.txt\n",
      "data/train/article_0034/file_1.txt\n",
      "data/train/article_0035/file_2.txt\n",
      "data/train/article_0036/file_1.txt\n",
      "data/train/article_0037/file_2.txt\n",
      "data/train/article_0038/file_1.txt\n",
      "data/train/article_0039/file_2.txt\n",
      "data/train/article_0040/file_2.txt\n",
      "data/train/article_0041/file_1.txt\n",
      "data/train/article_0042/file_2.txt\n",
      "data/train/article_0043/file_1.txt\n",
      "data/train/article_0044/file_1.txt\n",
      "data/train/article_0045/file_1.txt\n",
      "data/train/article_0046/file_2.txt\n",
      "data/train/article_0047/file_2.txt\n",
      "data/train/article_0048/file_1.txt\n",
      "data/train/article_0049/file_1.txt\n",
      "data/train/article_0050/file_2.txt\n",
      "data/train/article_0051/file_1.txt\n",
      "data/train/article_0052/file_1.txt\n",
      "data/train/article_0053/file_2.txt\n",
      "data/train/article_0054/file_2.txt\n",
      "data/train/article_0055/file_1.txt\n",
      "data/train/article_0056/file_1.txt\n",
      "data/train/article_0057/file_2.txt\n",
      "data/train/article_0058/file_2.txt\n",
      "data/train/article_0059/file_2.txt\n",
      "data/train/article_0060/file_2.txt\n",
      "data/train/article_0061/file_1.txt\n",
      "data/train/article_0062/file_2.txt\n",
      "data/train/article_0063/file_2.txt\n",
      "data/train/article_0064/file_2.txt\n",
      "data/train/article_0065/file_1.txt\n",
      "data/train/article_0066/file_1.txt\n",
      "data/train/article_0067/file_1.txt\n",
      "data/train/article_0068/file_2.txt\n",
      "data/train/article_0069/file_2.txt\n",
      "data/train/article_0070/file_2.txt\n",
      "data/train/article_0071/file_2.txt\n",
      "data/train/article_0072/file_1.txt\n",
      "data/train/article_0073/file_1.txt\n",
      "data/train/article_0074/file_1.txt\n",
      "data/train/article_0075/file_1.txt\n",
      "data/train/article_0076/file_2.txt\n",
      "data/train/article_0077/file_1.txt\n",
      "data/train/article_0078/file_2.txt\n",
      "data/train/article_0079/file_1.txt\n",
      "data/train/article_0080/file_2.txt\n",
      "data/train/article_0081/file_1.txt\n",
      "data/train/article_0082/file_1.txt\n",
      "data/train/article_0083/file_2.txt\n",
      "data/train/article_0084/file_2.txt\n",
      "data/train/article_0085/file_1.txt\n",
      "data/train/article_0086/file_2.txt\n",
      "data/train/article_0087/file_2.txt\n",
      "data/train/article_0088/file_1.txt\n",
      "data/train/article_0089/file_2.txt\n",
      "data/train/article_0090/file_2.txt\n",
      "data/train/article_0091/file_1.txt\n",
      "data/train/article_0092/file_2.txt\n",
      "data/train/article_0093/file_2.txt\n",
      "data/train/article_0094/file_1.txt\n"
     ]
    }
   ],
   "source": [
    "data_list = []\n",
    "\n",
    "for i in train_rules.values:\n",
    "    file_path_train = i[3]  # caminho do arquivo\n",
    "    print(file_path_train)\n",
    "    \n",
    "    # Lê o conteúdo do arquivo\n",
    "    with open(file_path_train, 'r', encoding='utf-8') as f:\n",
    "        text = f.read().strip()\n",
    "    \n",
    "    # Adiciona ao dicionário\n",
    "    data_list.append({\n",
    "        \"file_train\": file_path_train,\n",
    "        \"train\": text\n",
    "    })\n",
    "\n",
    "# Salva como JSON\n",
    "with open(\"train.json\", \"w\", encoding=\"utf-8\") as f:\n",
    "    json.dump(data_list, f, ensure_ascii=False, indent=2)"
   ]
  },
  {
   "cell_type": "code",
   "execution_count": 14,
   "id": "fb1d9227-a0ce-4f5c-939e-74657f6ae5ac",
   "metadata": {},
   "outputs": [
    {
     "data": {
      "text/html": [
       "<div>\n",
       "<style scoped>\n",
       "    .dataframe tbody tr th:only-of-type {\n",
       "        vertical-align: middle;\n",
       "    }\n",
       "\n",
       "    .dataframe tbody tr th {\n",
       "        vertical-align: top;\n",
       "    }\n",
       "\n",
       "    .dataframe thead th {\n",
       "        text-align: right;\n",
       "    }\n",
       "</style>\n",
       "<table border=\"1\" class=\"dataframe\">\n",
       "  <thead>\n",
       "    <tr style=\"text-align: right;\">\n",
       "      <th></th>\n",
       "      <th>file_train</th>\n",
       "      <th>train</th>\n",
       "    </tr>\n",
       "  </thead>\n",
       "  <tbody>\n",
       "    <tr>\n",
       "      <th>0</th>\n",
       "      <td>data/train/article_0000/file_1.txt</td>\n",
       "      <td>The VIRSA (Visible Infrared Survey Telescope A...</td>\n",
       "    </tr>\n",
       "    <tr>\n",
       "      <th>1</th>\n",
       "      <td>data/train/article_0001/file_2.txt</td>\n",
       "      <td>The project aims to achieve an accuracy level ...</td>\n",
       "    </tr>\n",
       "    <tr>\n",
       "      <th>2</th>\n",
       "      <td>data/train/article_0002/file_1.txt</td>\n",
       "      <td>Scientists can learn about how galaxies form a...</td>\n",
       "    </tr>\n",
       "    <tr>\n",
       "      <th>3</th>\n",
       "      <td>data/train/article_0003/file_2.txt</td>\n",
       "      <td>The importance for understanding how stars evo...</td>\n",
       "    </tr>\n",
       "    <tr>\n",
       "      <th>4</th>\n",
       "      <td>data/train/article_0004/file_2.txt</td>\n",
       "      <td>Analyzing how fast stars rotate within a galax...</td>\n",
       "    </tr>\n",
       "  </tbody>\n",
       "</table>\n",
       "</div>"
      ],
      "text/plain": [
       "                           file_train  \\\n",
       "0  data/train/article_0000/file_1.txt   \n",
       "1  data/train/article_0001/file_2.txt   \n",
       "2  data/train/article_0002/file_1.txt   \n",
       "3  data/train/article_0003/file_2.txt   \n",
       "4  data/train/article_0004/file_2.txt   \n",
       "\n",
       "                                               train  \n",
       "0  The VIRSA (Visible Infrared Survey Telescope A...  \n",
       "1  The project aims to achieve an accuracy level ...  \n",
       "2  Scientists can learn about how galaxies form a...  \n",
       "3  The importance for understanding how stars evo...  \n",
       "4  Analyzing how fast stars rotate within a galax...  "
      ]
     },
     "execution_count": 14,
     "metadata": {},
     "output_type": "execute_result"
    }
   ],
   "source": [
    "# Converte para DataFrame\n",
    "df = pd.DataFrame(data_list)\n",
    "\n",
    "# Visualiza o DataFrame\n",
    "df.head()"
   ]
  },
  {
   "cell_type": "code",
   "execution_count": null,
   "id": "01a65da0-e8be-46f8-8166-2215dfa32465",
   "metadata": {},
   "outputs": [],
   "source": []
  }
 ],
 "metadata": {
  "environment": {
   "kernel": "the_impostor",
   "name": "workbench-notebooks.m130",
   "type": "gcloud",
   "uri": "us-docker.pkg.dev/deeplearning-platform-release/gcr.io/workbench-notebooks:m130"
  },
  "kernelspec": {
   "display_name": "the_impostor (Local)",
   "language": "python",
   "name": "the_impostor"
  },
  "language_info": {
   "codemirror_mode": {
    "name": "ipython",
    "version": 3
   },
   "file_extension": ".py",
   "mimetype": "text/x-python",
   "name": "python",
   "nbconvert_exporter": "python",
   "pygments_lexer": "ipython3",
   "version": "3.10.18"
  }
 },
 "nbformat": 4,
 "nbformat_minor": 5
}
